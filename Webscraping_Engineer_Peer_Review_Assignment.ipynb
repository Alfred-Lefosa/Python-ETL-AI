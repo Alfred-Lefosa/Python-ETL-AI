{
    "cells": [
        {
            "cell_type": "markdown",
            "metadata": {},
            "source": "<p style=\"text-align:center\">\n    <a href=\"https://skills.network/?utm_medium=Exinfluencer&utm_source=Exinfluencer&utm_content=000026UJ&utm_term=10006555&utm_id=NA-SkillsNetwork-Channel-SkillsNetworkCoursesIBMDeveloperSkillsNetworkPY0221ENSkillsNetwork899-2023-01-01\">\n    <img src=\"https://cf-courses-data.s3.us.cloud-object-storage.appdomain.cloud/assets/logos/SN_web_lightmode.png\" width=\"200\" alt=\"Skills Network Logo\"  />\n    </a>\n</p>\n"
        },
        {
            "cell_type": "markdown",
            "metadata": {},
            "source": "# Peer Review Assignment - Data Engineer - Webscraping\n"
        },
        {
            "cell_type": "markdown",
            "metadata": {},
            "source": "Estimated time needed: **20** minutes\n"
        },
        {
            "cell_type": "markdown",
            "metadata": {},
            "source": "## Objectives\n\nIn this part you will:\n\n- Use webscraping to get bank information\n"
        },
        {
            "cell_type": "markdown",
            "metadata": {},
            "source": "For this lab, we are going to be using Python and several Python libraries. Some of these libraries might be installed in your lab environment or in SN Labs. Others may need to be installed by you. The cells below will install these libraries when executed.\n"
        },
        {
            "cell_type": "code",
            "execution_count": 1,
            "metadata": {},
            "outputs": [
                {
                    "name": "stdout",
                    "output_type": "stream",
                    "text": "\n                  __    __    __    __\n                 /  \\  /  \\  /  \\  /  \\\n                /    \\/    \\/    \\/    \\\n\u2588\u2588\u2588\u2588\u2588\u2588\u2588\u2588\u2588\u2588\u2588\u2588\u2588\u2588\u2588/  /\u2588\u2588/  /\u2588\u2588/  /\u2588\u2588/  /\u2588\u2588\u2588\u2588\u2588\u2588\u2588\u2588\u2588\u2588\u2588\u2588\u2588\u2588\u2588\u2588\u2588\u2588\u2588\u2588\u2588\u2588\u2588\u2588\n              /  / \\   / \\   / \\   / \\  \\____\n             /  /   \\_/   \\_/   \\_/   \\    o \\__,\n            / _/                       \\_____/  `\n            |/\n        \u2588\u2588\u2588\u2557   \u2588\u2588\u2588\u2557 \u2588\u2588\u2588\u2588\u2588\u2557 \u2588\u2588\u2588\u2557   \u2588\u2588\u2588\u2557\u2588\u2588\u2588\u2588\u2588\u2588\u2557  \u2588\u2588\u2588\u2588\u2588\u2557\n        \u2588\u2588\u2588\u2588\u2557 \u2588\u2588\u2588\u2588\u2551\u2588\u2588\u2554\u2550\u2550\u2588\u2588\u2557\u2588\u2588\u2588\u2588\u2557 \u2588\u2588\u2588\u2588\u2551\u2588\u2588\u2554\u2550\u2550\u2588\u2588\u2557\u2588\u2588\u2554\u2550\u2550\u2588\u2588\u2557\n        \u2588\u2588\u2554\u2588\u2588\u2588\u2588\u2554\u2588\u2588\u2551\u2588\u2588\u2588\u2588\u2588\u2588\u2588\u2551\u2588\u2588\u2554\u2588\u2588\u2588\u2588\u2554\u2588\u2588\u2551\u2588\u2588\u2588\u2588\u2588\u2588\u2554\u255d\u2588\u2588\u2588\u2588\u2588\u2588\u2588\u2551\n        \u2588\u2588\u2551\u255a\u2588\u2588\u2554\u255d\u2588\u2588\u2551\u2588\u2588\u2554\u2550\u2550\u2588\u2588\u2551\u2588\u2588\u2551\u255a\u2588\u2588\u2554\u255d\u2588\u2588\u2551\u2588\u2588\u2554\u2550\u2550\u2588\u2588\u2557\u2588\u2588\u2554\u2550\u2550\u2588\u2588\u2551\n        \u2588\u2588\u2551 \u255a\u2550\u255d \u2588\u2588\u2551\u2588\u2588\u2551  \u2588\u2588\u2551\u2588\u2588\u2551 \u255a\u2550\u255d \u2588\u2588\u2551\u2588\u2588\u2588\u2588\u2588\u2588\u2554\u255d\u2588\u2588\u2551  \u2588\u2588\u2551\n        \u255a\u2550\u255d     \u255a\u2550\u255d\u255a\u2550\u255d  \u255a\u2550\u255d\u255a\u2550\u255d     \u255a\u2550\u255d\u255a\u2550\u2550\u2550\u2550\u2550\u255d \u255a\u2550\u255d  \u255a\u2550\u255d\n\n        mamba (0.15.3) supported by @QuantStack\n\n        GitHub:  https://github.com/mamba-org/mamba\n        Twitter: https://twitter.com/QuantStack\n\n\u2588\u2588\u2588\u2588\u2588\u2588\u2588\u2588\u2588\u2588\u2588\u2588\u2588\u2588\u2588\u2588\u2588\u2588\u2588\u2588\u2588\u2588\u2588\u2588\u2588\u2588\u2588\u2588\u2588\u2588\u2588\u2588\u2588\u2588\u2588\u2588\u2588\u2588\u2588\u2588\u2588\u2588\u2588\u2588\u2588\u2588\u2588\u2588\u2588\u2588\u2588\u2588\u2588\u2588\u2588\u2588\u2588\u2588\u2588\u2588\u2588\n\n\nLooking for: ['bs4==4.10.0']\n\npkgs/main/noarch         [<=>                 ] (00m:00s) \npkgs/main/noarch         [=>                ] (00m:00s) 12 KB / ?? (78.99 KB/s)\npkgs/main/noarch         [=>                ] (00m:00s) 12 KB / ?? (78.99 KB/s)\npkgs/r/noarch            [<=>                 ] (00m:00s) \npkgs/main/noarch         [=>                ] (00m:00s) 12 KB / ?? (78.99 KB/s)\npkgs/r/noarch            [=>                ] (00m:00s) 495  B / ?? (3.17 KB/s)\npkgs/main/noarch         [=>                ] (00m:00s) 12 KB / ?? (78.99 KB/s)\npkgs/r/noarch            [<=>               ] (00m:00s) 495  B / ?? (3.17 KB/s)\npkgs/main/noarch         [=>                ] (00m:00s) 12 KB / ?? (78.99 KB/s)\npkgs/r/noarch            [<=>               ] (00m:00s) 752 KB / ?? (2.43 MB/s)\npkgs/main/noarch         [=>                ] (00m:00s) 12 KB / ?? (78.99 KB/s)\npkgs/r/noarch            [<=>               ] (00m:00s) 752 KB / ?? (2.43 MB/s)\npkgs/main/linux-64       [<=>                 ] (00m:00s) \npkgs/main/noarch         [=>                ] (00m:00s) 12 KB / ?? (78.99 KB/s)\npkgs/r/noarch            [<=>               ] (00m:00s) 752 KB / ?? (2.43 MB/s)\npkgs/main/linux-64       [=>                ] (00m:00s) 720 KB / ?? (2.31 MB/s)\npkgs/main/noarch         [<=>               ] (00m:00s) 12 KB / ?? (78.99 KB/s)\npkgs/r/noarch            [<=>               ] (00m:00s) 752 KB / ?? (2.43 MB/s)\npkgs/main/linux-64       [=>                ] (00m:00s) 720 KB / ?? (2.31 MB/s)\npkgs/main/noarch         [<=>               ] (00m:00s) 792 KB / ?? (2.53 MB/s)\npkgs/r/noarch            [<=>               ] (00m:00s) 752 KB / ?? (2.43 MB/s)\npkgs/main/linux-64       [=>                ] (00m:00s) 720 KB / ?? (2.31 MB/s)\npkgs/main/noarch         [<=>               ] (00m:00s) 792 KB / ?? (2.53 MB/s)\npkgs/r/noarch            [<=>               ] (00m:00s) 752 KB / ?? (2.43 MB/s)\npkgs/main/linux-64       [=>                ] (00m:00s) 720 KB / ?? (2.31 MB/s)\npkgs/r/linux-64          [<=>                 ] (00m:00s) \npkgs/main/noarch         [<=>               ] (00m:00s) 792 KB / ?? (2.53 MB/s)\npkgs/r/noarch            [<=>               ] (00m:00s) 752 KB / ?? (2.43 MB/s)\npkgs/main/linux-64       [=>                ] (00m:00s) 720 KB / ?? (2.31 MB/s)\npkgs/r/linux-64          [=>                ] (00m:00s) 640 KB / ?? (2.04 MB/s)\npkgs/main/noarch         [ <=>                ] (00m:00s) Finalizing...\npkgs/r/noarch            [<=>               ] (00m:00s) 752 KB / ?? (2.43 MB/s)\npkgs/main/linux-64       [=>                ] (00m:00s) 720 KB / ?? (2.31 MB/s)\npkgs/r/linux-64          [=>                ] (00m:00s) 640 KB / ?? (2.04 MB/s)\npkgs/main/noarch         [ <=>                ] (00m:00s) Done\npkgs/r/noarch            [<=>               ] (00m:00s) 752 KB / ?? (2.43 MB/s)\npkgs/main/linux-64       [=>                ] (00m:00s) 720 KB / ?? (2.31 MB/s)\npkgs/r/linux-64          [=>                ] (00m:00s) 640 KB / ?? (2.04 MB/s)\npkgs/main/noarch         [====================] (00m:00s) Done\npkgs/r/noarch            [<=>               ] (00m:00s) 752 KB / ?? (2.43 MB/s)\npkgs/main/linux-64       [=>                ] (00m:00s) 720 KB / ?? (2.31 MB/s)\npkgs/r/linux-64          [=>                ] (00m:00s) 640 KB / ?? (2.04 MB/s)\npkgs/r/noarch            [ <=>                ] (00m:00s) Finalizing...\npkgs/main/linux-64       [=>                ] (00m:00s) 720 KB / ?? (2.31 MB/s)\npkgs/r/linux-64          [=>                ] (00m:00s) 640 KB / ?? (2.04 MB/s)\npkgs/r/noarch            [ <=>                ] (00m:00s) Done\npkgs/main/linux-64       [=>                ] (00m:00s) 720 KB / ?? (2.31 MB/s)\npkgs/r/linux-64          [=>                ] (00m:00s) 640 KB / ?? (2.04 MB/s)\npkgs/r/noarch            [====================] (00m:00s) Done\npkgs/main/linux-64       [=>                ] (00m:00s) 720 KB / ?? (2.31 MB/s)\npkgs/r/linux-64          [=>                ] (00m:00s) 640 KB / ?? (2.04 MB/s)\npkgs/main/linux-64       [<=>               ] (00m:00s) 720 KB / ?? (2.31 MB/s)\npkgs/r/linux-64          [=>                ] (00m:00s) 640 KB / ?? (2.04 MB/s)\npkgs/main/linux-64       [ <=>                ] (00m:00s) 1 MB / ?? (3.17 MB/s)\npkgs/r/linux-64          [=>                ] (00m:00s) 640 KB / ?? (2.04 MB/s)\npkgs/main/linux-64       [ <=>                ] (00m:00s) 1 MB / ?? (3.17 MB/s)\npkgs/r/linux-64          [<=>               ] (00m:00s) 640 KB / ?? (2.04 MB/s)\npkgs/main/linux-64       [ <=>                ] (00m:00s) 1 MB / ?? (3.17 MB/s)\npkgs/r/linux-64          [ <=>                ] (00m:00s) 1 MB / ?? (2.96 MB/s)\npkgs/main/linux-64       [ <=>                ] (00m:00s) 1 MB / ?? (3.17 MB/s)\npkgs/r/linux-64          [ <=>                ] (00m:00s) Finalizing...\npkgs/main/linux-64       [ <=>                ] (00m:00s) 1 MB / ?? (3.17 MB/s)\npkgs/r/linux-64          [ <=>                ] (00m:00s) Done\npkgs/r/linux-64          [====================] (00m:00s) Done\npkgs/main/linux-64       [ <=>                ] (00m:00s) 1 MB / ?? (3.17 MB/s)\npkgs/main/linux-64       [  <=>               ] (00m:00s) 1 MB / ?? (3.17 MB/s)\npkgs/main/linux-64       [  <=>               ] (00m:00s) 2 MB / ?? (3.63 MB/s)\npkgs/main/linux-64       [   <=>              ] (00m:00s) 2 MB / ?? (3.63 MB/s)\npkgs/main/linux-64       [   <=>              ] (00m:00s) 3 MB / ?? (3.83 MB/s)\npkgs/main/linux-64       [    <=>             ] (00m:00s) 3 MB / ?? (3.83 MB/s)\npkgs/main/linux-64       [    <=>             ] (00m:00s) 4 MB / ?? (4.00 MB/s)\npkgs/main/linux-64       [     <=>            ] (00m:00s) 4 MB / ?? (4.00 MB/s)\npkgs/main/linux-64       [     <=>            ] (00m:00s) 4 MB / ?? (4.10 MB/s)\npkgs/main/linux-64       [      <=>           ] (00m:00s) 4 MB / ?? (4.10 MB/s)\npkgs/main/linux-64       [      <=>           ] (00m:00s) 5 MB / ?? (4.20 MB/s)\npkgs/main/linux-64       [      <=>           ] (00m:00s) Finalizing...\npkgs/main/linux-64       [      <=>           ] (00m:01s) Done\npkgs/main/linux-64       [====================] (00m:01s) Done\n\nPinned packages:\n  - python 3.7.*\n\n\nTransaction\n\n  Prefix: /home/jupyterlab/conda/envs/python\n\n  Updating specs:\n\n   - bs4==4.10.0\n   - ca-certificates\n   - certifi\n   - openssl\n\n\n  Package               Version  Build           Channel                  Size\n\u2500\u2500\u2500\u2500\u2500\u2500\u2500\u2500\u2500\u2500\u2500\u2500\u2500\u2500\u2500\u2500\u2500\u2500\u2500\u2500\u2500\u2500\u2500\u2500\u2500\u2500\u2500\u2500\u2500\u2500\u2500\u2500\u2500\u2500\u2500\u2500\u2500\u2500\u2500\u2500\u2500\u2500\u2500\u2500\u2500\u2500\u2500\u2500\u2500\u2500\u2500\u2500\u2500\u2500\u2500\u2500\u2500\u2500\u2500\u2500\u2500\u2500\u2500\u2500\u2500\u2500\u2500\u2500\u2500\u2500\u2500\u2500\u2500\u2500\u2500\u2500\u2500\u2500\u2500\u2500\n  Install:\n\u2500\u2500\u2500\u2500\u2500\u2500\u2500\u2500\u2500\u2500\u2500\u2500\u2500\u2500\u2500\u2500\u2500\u2500\u2500\u2500\u2500\u2500\u2500\u2500\u2500\u2500\u2500\u2500\u2500\u2500\u2500\u2500\u2500\u2500\u2500\u2500\u2500\u2500\u2500\u2500\u2500\u2500\u2500\u2500\u2500\u2500\u2500\u2500\u2500\u2500\u2500\u2500\u2500\u2500\u2500\u2500\u2500\u2500\u2500\u2500\u2500\u2500\u2500\u2500\u2500\u2500\u2500\u2500\u2500\u2500\u2500\u2500\u2500\u2500\u2500\u2500\u2500\u2500\u2500\u2500\n\n\u001b[32m  + bs4            \u001b[00m      4.10.0  hd3eb1b0_0      pkgs/main/noarch        10 KB\n\n  Upgrade:\n\u2500\u2500\u2500\u2500\u2500\u2500\u2500\u2500\u2500\u2500\u2500\u2500\u2500\u2500\u2500\u2500\u2500\u2500\u2500\u2500\u2500\u2500\u2500\u2500\u2500\u2500\u2500\u2500\u2500\u2500\u2500\u2500\u2500\u2500\u2500\u2500\u2500\u2500\u2500\u2500\u2500\u2500\u2500\u2500\u2500\u2500\u2500\u2500\u2500\u2500\u2500\u2500\u2500\u2500\u2500\u2500\u2500\u2500\u2500\u2500\u2500\u2500\u2500\u2500\u2500\u2500\u2500\u2500\u2500\u2500\u2500\u2500\u2500\u2500\u2500\u2500\u2500\u2500\u2500\u2500\n\n\u001b[31m  - ca-certificates\u001b[00m   2022.9.24  ha878542_0      installed                    \n\u001b[32m  + ca-certificates\u001b[00m  2023.01.10  h06a4308_0      pkgs/main/linux-64     120 KB\n\u001b[31m  - certifi        \u001b[00m   2022.9.24  pyhd8ed1ab_0    installed                    \n\u001b[32m  + certifi        \u001b[00m   2022.12.7  py37h06a4308_0  pkgs/main/linux-64     150 KB\n\u001b[31m  - openssl        \u001b[00m      1.1.1s  h0b41bf4_1      installed                    \n\u001b[32m  + openssl        \u001b[00m      1.1.1t  h7f8727e_0      pkgs/main/linux-64       4 MB\n\n  Downgrade:\n\u2500\u2500\u2500\u2500\u2500\u2500\u2500\u2500\u2500\u2500\u2500\u2500\u2500\u2500\u2500\u2500\u2500\u2500\u2500\u2500\u2500\u2500\u2500\u2500\u2500\u2500\u2500\u2500\u2500\u2500\u2500\u2500\u2500\u2500\u2500\u2500\u2500\u2500\u2500\u2500\u2500\u2500\u2500\u2500\u2500\u2500\u2500\u2500\u2500\u2500\u2500\u2500\u2500\u2500\u2500\u2500\u2500\u2500\u2500\u2500\u2500\u2500\u2500\u2500\u2500\u2500\u2500\u2500\u2500\u2500\u2500\u2500\u2500\u2500\u2500\u2500\u2500\u2500\u2500\u2500\n\n\u001b[31m  - beautifulsoup4 \u001b[00m      4.11.1  pyha770c72_0    installed                    \n\u001b[32m  + beautifulsoup4 \u001b[00m      4.10.0  pyh06a4308_0    pkgs/main/noarch        85 KB\n\n  Summary:\n\n  Install: 1 packages\n  Upgrade: 3 packages\n  Downgrade: 1 packages\n\n  Total download: 4 MB\n\n\u2500\u2500\u2500\u2500\u2500\u2500\u2500\u2500\u2500\u2500\u2500\u2500\u2500\u2500\u2500\u2500\u2500\u2500\u2500\u2500\u2500\u2500\u2500\u2500\u2500\u2500\u2500\u2500\u2500\u2500\u2500\u2500\u2500\u2500\u2500\u2500\u2500\u2500\u2500\u2500\u2500\u2500\u2500\u2500\u2500\u2500\u2500\u2500\u2500\u2500\u2500\u2500\u2500\u2500\u2500\u2500\u2500\u2500\u2500\u2500\u2500\u2500\u2500\u2500\u2500\u2500\u2500\u2500\u2500\u2500\u2500\u2500\u2500\u2500\u2500\u2500\u2500\u2500\u2500\u2500\n\nDownloading  [>                                        ] (00m:00s)   61.77 KB/s\nExtracting   [>                                                      ] (--:--) \n\u001b[2A\u001b[0KFinished bs4                                  (00m:00s)              10 KB     62 KB/s\nDownloading  [>                                        ] (00m:00s)   61.77 KB/s\nExtracting   [>                                                      ] (--:--) \nDownloading  [>                                        ] (00m:00s)  579.95 KB/s\nExtracting   [>                                                      ] (--:--) \nDownloading  [>                                        ] (00m:00s)  579.95 KB/s\nExtracting   [>                                                      ] (--:--) \nDownloading  [>                                        ] (00m:00s)  579.95 KB/s\nExtracting   [>                                                      ] (--:--) \n\u001b[2A\u001b[0KFinished beautifulsoup4                       (00m:00s)              85 KB    518 KB/s\nDownloading  [>                                        ] (00m:00s)  579.95 KB/s\nExtracting   [>                                                      ] (--:--) \nDownloading  [>                                        ] (00m:00s)  579.95 KB/s\nExtracting   [>                                                      ] (--:--) \nDownloading  [==>                                      ] (00m:00s)    1.40 MB/s\nExtracting   [>                                                      ] (--:--) \n\u001b[2A\u001b[0KFinished certifi                              (00m:00s)             150 KB    881 KB/s\nDownloading  [==>                                      ] (00m:00s)    1.40 MB/s\nExtracting   [>                                                      ] (--:--) \nDownloading  [==>                                      ] (00m:00s)    1.40 MB/s\nExtracting   [>                                                      ] (--:--) \nDownloading  [===>                                     ] (00m:00s)    1.97 MB/s\nExtracting   [>                                                      ] (--:--) \nDownloading  [===>                                     ] (00m:00s)    1.97 MB/s\nExtracting   [========>                                ] (00m:00s)        1 / 5\nDownloading  [===>                                     ] (00m:00s)    1.97 MB/s\nExtracting   [========>                                ] (00m:00s)        1 / 5\n\u001b[2A\u001b[0KFinished ca-certificates                      (00m:00s)             120 KB    664 KB/s\nDownloading  [===>                                     ] (00m:00s)    1.97 MB/s\nExtracting   [========>                                ] (00m:00s)        1 / 5\nDownloading  [===>                                     ] (00m:00s)    1.97 MB/s\nExtracting   [========>                                ] (00m:00s)        1 / 5\nDownloading  [===>                                     ] (00m:00s)    1.97 MB/s\nExtracting   [================>                        ] (00m:00s)        2 / 5\nDownloading  [===>                                     ] (00m:00s)    1.97 MB/s\nExtracting   [================>                        ] (00m:00s)        2 / 5\nDownloading  [=========================================] (00m:00s)   17.88 MB/s\nExtracting   [================>                        ] (00m:00s)        2 / 5\nDownloading  [=========================================] (00m:00s)   17.88 MB/s\nExtracting   [========================>                ] (00m:00s)        3 / 5\nDownloading  [=========================================] (00m:00s)   17.88 MB/s\nExtracting   [========================>                ] (00m:00s)        3 / 5\nDownloading  [=========================================] (00m:00s)   17.88 MB/s\nExtracting   [================================>        ] (00m:00s)        4 / 5\n\u001b[2A\u001b[0KFinished openssl                              (00m:00s)               4 MB     16 MB/s\nDownloading  [=========================================] (00m:00s)   17.88 MB/s\nExtracting   [================================>        ] (00m:00s)        4 / 5\nDownloading  [=========================================] (00m:00s)   17.88 MB/s\nExtracting   [================================>        ] (00m:00s)        4 / 5\nDownloading  [=========================================] (00m:00s)   17.88 MB/s\nExtracting   [================================>        ] (00m:00s)        4 / 5\nDownloading  [=========================================] (00m:00s)   17.88 MB/s\nExtracting   [=========================================] (00m:00s)        5 / 5\nPreparing transaction: done\nVerifying transaction: done\nExecuting transaction: done\n\n                  __    __    __    __\n                 /  \\  /  \\  /  \\  /  \\\n                /    \\/    \\/    \\/    \\\n\u2588\u2588\u2588\u2588\u2588\u2588\u2588\u2588\u2588\u2588\u2588\u2588\u2588\u2588\u2588/  /\u2588\u2588/  /\u2588\u2588/  /\u2588\u2588/  /\u2588\u2588\u2588\u2588\u2588\u2588\u2588\u2588\u2588\u2588\u2588\u2588\u2588\u2588\u2588\u2588\u2588\u2588\u2588\u2588\u2588\u2588\u2588\u2588\n              /  / \\   / \\   / \\   / \\  \\____\n             /  /   \\_/   \\_/   \\_/   \\    o \\__,\n            / _/                       \\_____/  `\n            |/\n        \u2588\u2588\u2588\u2557   \u2588\u2588\u2588\u2557 \u2588\u2588\u2588\u2588\u2588\u2557 \u2588\u2588\u2588\u2557   \u2588\u2588\u2588\u2557\u2588\u2588\u2588\u2588\u2588\u2588\u2557  \u2588\u2588\u2588\u2588\u2588\u2557\n        \u2588\u2588\u2588\u2588\u2557 \u2588\u2588\u2588\u2588\u2551\u2588\u2588\u2554\u2550\u2550\u2588\u2588\u2557\u2588\u2588\u2588\u2588\u2557 \u2588\u2588\u2588\u2588\u2551\u2588\u2588\u2554\u2550\u2550\u2588\u2588\u2557\u2588\u2588\u2554\u2550\u2550\u2588\u2588\u2557\n        \u2588\u2588\u2554\u2588\u2588\u2588\u2588\u2554\u2588\u2588\u2551\u2588\u2588\u2588\u2588\u2588\u2588\u2588\u2551\u2588\u2588\u2554\u2588\u2588\u2588\u2588\u2554\u2588\u2588\u2551\u2588\u2588\u2588\u2588\u2588\u2588\u2554\u255d\u2588\u2588\u2588\u2588\u2588\u2588\u2588\u2551\n        \u2588\u2588\u2551\u255a\u2588\u2588\u2554\u255d\u2588\u2588\u2551\u2588\u2588\u2554\u2550\u2550\u2588\u2588\u2551\u2588\u2588\u2551\u255a\u2588\u2588\u2554\u255d\u2588\u2588\u2551\u2588\u2588\u2554\u2550\u2550\u2588\u2588\u2557\u2588\u2588\u2554\u2550\u2550\u2588\u2588\u2551\n        \u2588\u2588\u2551 \u255a\u2550\u255d \u2588\u2588\u2551\u2588\u2588\u2551  \u2588\u2588\u2551\u2588\u2588\u2551 \u255a\u2550\u255d \u2588\u2588\u2551\u2588\u2588\u2588\u2588\u2588\u2588\u2554\u255d\u2588\u2588\u2551  \u2588\u2588\u2551\n        \u255a\u2550\u255d     \u255a\u2550\u255d\u255a\u2550\u255d  \u255a\u2550\u255d\u255a\u2550\u255d     \u255a\u2550\u255d\u255a\u2550\u2550\u2550\u2550\u2550\u255d \u255a\u2550\u255d  \u255a\u2550\u255d\n\n        mamba (0.15.3) supported by @QuantStack\n\n        GitHub:  https://github.com/mamba-org/mamba\n        Twitter: https://twitter.com/QuantStack\n\n\u2588\u2588\u2588\u2588\u2588\u2588\u2588\u2588\u2588\u2588\u2588\u2588\u2588\u2588\u2588\u2588\u2588\u2588\u2588\u2588\u2588\u2588\u2588\u2588\u2588\u2588\u2588\u2588\u2588\u2588\u2588\u2588\u2588\u2588\u2588\u2588\u2588\u2588\u2588\u2588\u2588\u2588\u2588\u2588\u2588\u2588\u2588\u2588\u2588\u2588\u2588\u2588\u2588\u2588\u2588\u2588\u2588\u2588\u2588\u2588\u2588\n\n\nLooking for: ['html5lib==1.1']\n\npkgs/main/linux-64       Using cache\npkgs/main/noarch         Using cache\npkgs/r/linux-64          Using cache\npkgs/r/noarch            Using cache\n\nPinned packages:\n  - python 3.7.*\n\n\nTransaction\n\n  Prefix: /home/jupyterlab/conda/envs/python\n\n  Updating specs:\n\n   - html5lib==1.1\n   - ca-certificates\n   - certifi\n   - openssl\n\n\n  Package         Version  Build         Channel                 Size\n\u2500\u2500\u2500\u2500\u2500\u2500\u2500\u2500\u2500\u2500\u2500\u2500\u2500\u2500\u2500\u2500\u2500\u2500\u2500\u2500\u2500\u2500\u2500\u2500\u2500\u2500\u2500\u2500\u2500\u2500\u2500\u2500\u2500\u2500\u2500\u2500\u2500\u2500\u2500\u2500\u2500\u2500\u2500\u2500\u2500\u2500\u2500\u2500\u2500\u2500\u2500\u2500\u2500\u2500\u2500\u2500\u2500\u2500\u2500\u2500\u2500\u2500\u2500\u2500\u2500\u2500\u2500\u2500\u2500\u2500\u2500\n  Install:\n\u2500\u2500\u2500\u2500\u2500\u2500\u2500\u2500\u2500\u2500\u2500\u2500\u2500\u2500\u2500\u2500\u2500\u2500\u2500\u2500\u2500\u2500\u2500\u2500\u2500\u2500\u2500\u2500\u2500\u2500\u2500\u2500\u2500\u2500\u2500\u2500\u2500\u2500\u2500\u2500\u2500\u2500\u2500\u2500\u2500\u2500\u2500\u2500\u2500\u2500\u2500\u2500\u2500\u2500\u2500\u2500\u2500\u2500\u2500\u2500\u2500\u2500\u2500\u2500\u2500\u2500\u2500\u2500\u2500\u2500\u2500\n\n\u001b[32m  + html5lib    \u001b[00m      1.1  pyhd3eb1b0_0  pkgs/main/noarch       91 KB\n\u001b[32m  + webencodings\u001b[00m    0.5.1  py37_1        pkgs/main/linux-64     19 KB\n\n  Summary:\n\n  Install: 2 packages\n\n  Total download: 110 KB\n\n\u2500\u2500\u2500\u2500\u2500\u2500\u2500\u2500\u2500\u2500\u2500\u2500\u2500\u2500\u2500\u2500\u2500\u2500\u2500\u2500\u2500\u2500\u2500\u2500\u2500\u2500\u2500\u2500\u2500\u2500\u2500\u2500\u2500\u2500\u2500\u2500\u2500\u2500\u2500\u2500\u2500\u2500\u2500\u2500\u2500\u2500\u2500\u2500\u2500\u2500\u2500\u2500\u2500\u2500\u2500\u2500\u2500\u2500\u2500\u2500\u2500\u2500\u2500\u2500\u2500\u2500\u2500\u2500\u2500\u2500\u2500\n\nDownloading  [=================================>       ] (00m:00s)  613.66 KB/s\nExtracting   [>                                                      ] (--:--) \n\u001b[2A\u001b[0KFinished html5lib                             (00m:00s)              91 KB    659 KB/s\nDownloading  [=================================>       ] (00m:00s)  613.66 KB/s\nExtracting   [>                                                      ] (--:--) \nDownloading  [=================================>       ] (00m:00s)  613.66 KB/s\nExtracting   [>                                                      ] (--:--) \nDownloading  [=================================>       ] (00m:00s)  613.66 KB/s\nExtracting   [>                                                      ] (--:--) \nDownloading  [=========================================] (00m:00s)  723.14 KB/s\nExtracting   [>                                                      ] (--:--) \n\u001b[2A\u001b[0KFinished webencodings                         (00m:00s)              19 KB    126 KB/s\nDownloading  [=========================================] (00m:00s)  723.14 KB/s\nExtracting   [>                                                      ] (--:--) \nDownloading  [=========================================] (00m:00s)  723.14 KB/s\nExtracting   [>                                                      ] (--:--) \nDownloading  [=========================================] (00m:00s)  723.14 KB/s\nExtracting   [====================>                    ] (00m:00s)        1 / 2\nDownloading  [=========================================] (00m:00s)  723.14 KB/s\nExtracting   [====================>                    ] (00m:00s)        1 / 2\nDownloading  [=========================================] (00m:00s)  723.14 KB/s\nExtracting   [=========================================] (00m:00s)        2 / 2\nPreparing transaction: done\nVerifying transaction: done\nExecuting transaction: done\n"
                }
            ],
            "source": "#!mamba install pandas==1.3.3 -y\n#!mamba install requests==2.26.0 -y\n!mamba install bs4==4.10.0 -y\n!mamba install html5lib==1.1 -y"
        },
        {
            "cell_type": "markdown",
            "metadata": {},
            "source": "## Imports\n\nImport any additional libraries you may need here.\n"
        },
        {
            "cell_type": "code",
            "execution_count": 2,
            "metadata": {},
            "outputs": [],
            "source": "from bs4 import BeautifulSoup\nimport html5lib\nimport requests\nimport pandas as pd"
        },
        {
            "cell_type": "markdown",
            "metadata": {},
            "source": "## Extract Data Using Web Scraping\n"
        },
        {
            "cell_type": "markdown",
            "metadata": {},
            "source": "The wikipedia webpage https://web.archive.org/web/20200318083015/https://en.wikipedia.org/wiki/List_of_largest_banks provides information about largest banks in the world by various parameters. Scrape the data from the table 'By market capitalization' and store it in a JSON file.\n"
        },
        {
            "cell_type": "markdown",
            "metadata": {},
            "source": "### Webpage Contents\n\nGather the contents of the webpage in text format using the `requests` library and assign it to the variable <code>html_data</code>\n"
        },
        {
            "cell_type": "code",
            "execution_count": 7,
            "metadata": {},
            "outputs": [],
            "source": "#Write your code here\nurl = \"https://web.archive.org/web/20200318083015/https://en.wikipedia.org/wiki/List_of_largest_banks\"\nhtml_data  = requests.get(url).text"
        },
        {
            "cell_type": "markdown",
            "metadata": {},
            "source": "<b>Question 1</b> Print out the output of the following line, and remember it as it will be a quiz question:\n"
        },
        {
            "cell_type": "code",
            "execution_count": 6,
            "metadata": {},
            "outputs": [
                {
                    "data": {
                        "text/plain": "'List of largest banks -'"
                    },
                    "execution_count": 6,
                    "metadata": {},
                    "output_type": "execute_result"
                }
            ],
            "source": "html_data[760:783]"
        },
        {
            "cell_type": "markdown",
            "metadata": {},
            "source": "### Scraping the Data\n\n<b> Question 2</b> Using the contents and `beautiful soup` load the data from the `By market capitalization` table into a `pandas` dataframe. The dataframe should have the bank `Name` and `Market Cap (US$ Billion)` as column names.  Display the first five rows using head. \n"
        },
        {
            "cell_type": "markdown",
            "metadata": {},
            "source": "Using BeautifulSoup parse the contents of the webpage.\n"
        },
        {
            "cell_type": "code",
            "execution_count": 10,
            "metadata": {},
            "outputs": [],
            "source": "#Replace the dots below\nsoup= BeautifulSoup(html_data, \"html.parser\")"
        },
        {
            "cell_type": "markdown",
            "metadata": {},
            "source": "Load the data from the `By market capitalization` table into a pandas dataframe. The dataframe should have the bank `Name` and `Market Cap (US$ Billion)` as column names. Using the empty dataframe `data` and the given loop extract the necessary data from each row and append it to the empty dataframe.\n"
        },
        {
            "cell_type": "code",
            "execution_count": 26,
            "metadata": {},
            "outputs": [],
            "source": "data = pd.DataFrame(columns=[\"Name\", \"Market Cap (US$ Billion)\"])\n\nfor row in soup.find_all('tbody')[2].find_all('tr'):\n    col = row.find_all('td')\n    #Write your code here\n    if (col != []):\n        name = col[1].text.strip(\"\\n\")\n        market_cap = col[2].text.strip(\"\\n\")\n        data = data.append({\"Name\":name, \"Market Cap (US$ Billion)\":market_cap }, ignore_index=True)"
        },
        {
            "cell_type": "markdown",
            "metadata": {},
            "source": "**Question 3** Display the first five rows using the `head` function.\n"
        },
        {
            "cell_type": "code",
            "execution_count": 27,
            "metadata": {},
            "outputs": [
                {
                    "data": {
                        "text/html": "<div>\n<style scoped>\n    .dataframe tbody tr th:only-of-type {\n        vertical-align: middle;\n    }\n\n    .dataframe tbody tr th {\n        vertical-align: top;\n    }\n\n    .dataframe thead th {\n        text-align: right;\n    }\n</style>\n<table border=\"1\" class=\"dataframe\">\n  <thead>\n    <tr style=\"text-align: right;\">\n      <th></th>\n      <th>Name</th>\n      <th>Market Cap (US$ Billion)</th>\n    </tr>\n  </thead>\n  <tbody>\n    <tr>\n      <th>0</th>\n      <td>JPMorgan Chase</td>\n      <td>390.934</td>\n    </tr>\n    <tr>\n      <th>1</th>\n      <td>Industrial and Commercial Bank of China</td>\n      <td>345.214</td>\n    </tr>\n    <tr>\n      <th>2</th>\n      <td>Bank of America</td>\n      <td>325.331</td>\n    </tr>\n    <tr>\n      <th>3</th>\n      <td>Wells Fargo</td>\n      <td>308.013</td>\n    </tr>\n    <tr>\n      <th>4</th>\n      <td>China Construction Bank</td>\n      <td>257.399</td>\n    </tr>\n  </tbody>\n</table>\n</div>",
                        "text/plain": "                                       Name Market Cap (US$ Billion)\n0                            JPMorgan Chase                  390.934\n1   Industrial and Commercial Bank of China                  345.214\n2                           Bank of America                  325.331\n3                               Wells Fargo                  308.013\n4                   China Construction Bank                  257.399"
                    },
                    "execution_count": 27,
                    "metadata": {},
                    "output_type": "execute_result"
                }
            ],
            "source": "#Write your code here\ndata.head()"
        },
        {
            "cell_type": "markdown",
            "metadata": {},
            "source": "\n### Loading the Data\n\nLoad the `pandas` dataframe created above into a JSON named `bank_market_cap.json` using the `to_json()` function.\n"
        },
        {
            "cell_type": "code",
            "execution_count": null,
            "metadata": {},
            "outputs": [],
            "source": "#Write your code here\ndata.to_jason(\"bank_market_cap.json\", \"table\", )"
        },
        {
            "cell_type": "markdown",
            "metadata": {},
            "source": "## Authors\n"
        },
        {
            "cell_type": "markdown",
            "metadata": {},
            "source": "Ramesh Sannareddy, Joseph Santarcangelo and Azim Hirjani\n"
        },
        {
            "cell_type": "markdown",
            "metadata": {},
            "source": "### Other Contributors\n"
        },
        {
            "cell_type": "markdown",
            "metadata": {},
            "source": "Rav Ahuja\n"
        },
        {
            "cell_type": "markdown",
            "metadata": {},
            "source": "## Change Log\n"
        },
        {
            "cell_type": "markdown",
            "metadata": {},
            "source": "| Date (YYYY-MM-DD) | Version | Changed By        | Change Description                 |\n| ----------------- | ------- | ----------------- | ---------------------------------- |\n| 2022-07-12        | 0.2     | Appalabhaktula Hema | Corrected the code and markdown |\n| 2020-11-25        | 0.1     | Ramesh Sannareddy | Created initial version of the lab |\n"
        },
        {
            "cell_type": "markdown",
            "metadata": {},
            "source": "Copyright \u00a9 2020 IBM Corporation.\n"
        }
    ],
    "metadata": {
        "kernelspec": {
            "display_name": "Python",
            "language": "python",
            "name": "conda-env-python-py"
        },
        "language_info": {
            "codemirror_mode": {
                "name": "ipython",
                "version": 3
            },
            "file_extension": ".py",
            "mimetype": "text/x-python",
            "name": "python",
            "nbconvert_exporter": "python",
            "pygments_lexer": "ipython3",
            "version": "3.7.12"
        }
    },
    "nbformat": 4,
    "nbformat_minor": 4
}